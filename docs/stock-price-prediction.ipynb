{
 "cells": [
  {
   "cell_type": "markdown",
   "metadata": {
    "_cell_guid": "b1076dfc-b9ad-4769-8c92-a6c4dae69d19",
    "_kg_hide-output": true,
    "_uuid": "8f2839f25d086af736a60e9eeb907d3b93b6e0e5",
    "execution": {
     "iopub.execute_input": "2021-09-02T03:09:51.563226Z",
     "iopub.status.busy": "2021-09-02T03:09:51.562924Z",
     "iopub.status.idle": "2021-09-02T03:09:51.750841Z",
     "shell.execute_reply": "2021-09-02T03:09:51.750052Z",
     "shell.execute_reply.started": "2021-09-02T03:09:51.563148Z"
    }
   },
   "source": [
    "# Libraries"
   ]
  },
  {
   "cell_type": "code",
   "execution_count": null,
   "metadata": {
    "_kg_hide-output": true,
    "execution": {
     "iopub.execute_input": "2021-09-02T03:10:15.134370Z",
     "iopub.status.busy": "2021-09-02T03:10:15.134054Z"
    }
   },
   "outputs": [],
   "source": [
    "import numpy as np\n",
    "import pandas as pd\n",
    "from sklearn.preprocessing import StandardScaler\n",
    "from tensorflow.keras import optimizers\n",
    "from tensorflow.keras.models import Sequential\n",
    "from tensorflow.keras.layers import LSTM\n",
    "from tensorflow.keras.layers import Dense\n",
    "from tensorflow.keras.layers import Dropout\n",
    "from tensorflow.keras.layers import BatchNormalization\n",
    "from tensorflow.keras.layers import Flatten\n",
    "import tensorflow as tf\n",
    "import matplotlib.pyplot as plt\n",
    "import seaborn as sns\n",
    "import plotly.express as px\n",
    "!pip install yfinance \n",
    "import yfinance as yf"
   ]
  },
  {
   "cell_type": "markdown",
   "metadata": {},
   "source": [
    "# Data Loading"
   ]
  },
  {
   "cell_type": "code",
   "execution_count": null,
   "metadata": {
    "execution": {
     "iopub.execute_input": "2021-09-02T01:37:24.563203Z",
     "iopub.status.busy": "2021-09-02T01:37:24.562831Z",
     "iopub.status.idle": "2021-09-02T01:37:30.505070Z",
     "shell.execute_reply": "2021-09-02T01:37:30.504152Z",
     "shell.execute_reply.started": "2021-09-02T01:37:24.563173Z"
    }
   },
   "outputs": [],
   "source": [
    "df= yf.Ticker(\"^NSEBANK\").history(period='3y').reset_index()\n",
    "df_axis= yf.Ticker(\"AXISBANK.NS\").history(period='3y').reset_index()\n",
    "df_sbi= yf.Ticker(\"SBIN.NS\").history(period='3y').reset_index()\n",
    "df_rbl= yf.Ticker(\"RBLBANK.NS\").history(period='3y').reset_index()\n",
    "df_pnb= yf.Ticker(\"PNB.NS\").history(period='3y').reset_index()\n",
    "df_kot= yf.Ticker(\"KOTAKBANK.NS\").history(period='3y').reset_index()\n",
    "df_ind= yf.Ticker(\"INDUSINDBK.NS\").history(period='3y').reset_index()\n",
    "df_idfc= yf.Ticker(\"IDFCFIRSTB.NS\").history(period='3y').reset_index()\n",
    "df_icic= yf.Ticker(\"ICICIBANK.NS\").history(period='3y').reset_index()\n",
    "df_band= yf.Ticker(\"BANDHANBNK.NS\").history(period='3y').reset_index()\n",
    "df_hdfc= yf.Ticker(\"HDFC.NS\").history(period='3y').reset_index()\n",
    "df_fed= yf.Ticker(\"FEDERALBNK.NS\").history(period='3y').reset_index()\n",
    "df_au= yf.Ticker(\"AUBANK.NS\").history(period='3y').reset_index()"
   ]
  },
  {
   "cell_type": "code",
   "execution_count": null,
   "metadata": {
    "execution": {
     "iopub.execute_input": "2021-09-02T01:37:32.299756Z",
     "iopub.status.busy": "2021-09-02T01:37:32.299339Z",
     "iopub.status.idle": "2021-09-02T01:37:32.315192Z",
     "shell.execute_reply": "2021-09-02T01:37:32.313726Z",
     "shell.execute_reply.started": "2021-09-02T01:37:32.299721Z"
    }
   },
   "outputs": [],
   "source": [
    "df.head()"
   ]
  },
  {
   "cell_type": "markdown",
   "metadata": {},
   "source": [
    "Last 6 months"
   ]
  },
  {
   "cell_type": "code",
   "execution_count": null,
   "metadata": {
    "execution": {
     "iopub.execute_input": "2021-09-01T12:58:43.178711Z",
     "iopub.status.busy": "2021-09-01T12:58:43.178118Z",
     "iopub.status.idle": "2021-09-01T12:58:43.224828Z",
     "shell.execute_reply": "2021-09-01T12:58:43.223987Z",
     "shell.execute_reply.started": "2021-09-01T12:58:43.178675Z"
    }
   },
   "outputs": [],
   "source": [
    "# df=pd.read_csv('../input/nifty-bank-stock-prices/NSEBANK (1).csv')\n",
    "# df_axis=pd.read_csv('../input/nifty-bank-stock-prices/AXISBANK.NS.csv')\n",
    "# df_sbi=pd.read_csv('../input/nifty-bank-stock-prices/SBIN.NS.csv')\n",
    "# df_rbl=pd.read_csv('../input/nifty-bank-stock-prices/RBLBANK.NS.csv')\n",
    "# df_pnb=pd.read_csv('../input/nifty-bank-stock-prices/PNB.NS.csv')\n",
    "# df_kot=pd.read_csv('../input/nifty-bank-stock-prices/KOTAKBANK.NS.csv')\n",
    "# df_ind=pd.read_csv('../input/nifty-bank-stock-prices/INDUSINDBK.NS.csv')\n",
    "# df_idfc=pd.read_csv('../input/nifty-bank-stock-prices/IDFCFIRSTB.NS.csv')\n",
    "# df_icic=pd.read_csv('../input/nifty-bank-stock-prices/ICICIBANK.NS.csv')\n",
    "# df_band=pd.read_csv('../input/nifty-bank-stock-prices/BANDHANBNK.NS.csv')\n",
    "# df_hdfc=pd.read_csv('../input/nifty-bank-stock-prices/HDFC.NS.csv')\n",
    "# df_fed=pd.read_csv('../input/nifty-bank-stock-prices/FEDERALBNK.NS.csv')\n",
    "# df_au=pd.read_csv('../input/nifty-bank-stock-prices/AUBANK.NS.csv')"
   ]
  },
  {
   "cell_type": "markdown",
   "metadata": {},
   "source": [
    "# Visualizations"
   ]
  },
  {
   "cell_type": "markdown",
   "metadata": {},
   "source": [
    "Historical data for Bank Nifty (NSEBANK)"
   ]
  },
  {
   "cell_type": "code",
   "execution_count": null,
   "metadata": {
    "execution": {
     "iopub.execute_input": "2021-09-02T01:37:37.673087Z",
     "iopub.status.busy": "2021-09-02T01:37:37.672558Z",
     "iopub.status.idle": "2021-09-02T01:37:38.856182Z",
     "shell.execute_reply": "2021-09-02T01:37:38.854972Z",
     "shell.execute_reply.started": "2021-09-02T01:37:37.673055Z"
    }
   },
   "outputs": [],
   "source": [
    "import plotly.express as px\n",
    "fig = px.line(df, x='Date', y=\"Open\")\n",
    "fig.show()"
   ]
  },
  {
   "cell_type": "code",
   "execution_count": null,
   "metadata": {
    "execution": {
     "iopub.execute_input": "2021-09-02T01:37:55.266699Z",
     "iopub.status.busy": "2021-09-02T01:37:55.266300Z",
     "iopub.status.idle": "2021-09-02T01:37:55.274758Z",
     "shell.execute_reply": "2021-09-02T01:37:55.273029Z",
     "shell.execute_reply.started": "2021-09-02T01:37:55.266666Z"
    }
   },
   "outputs": [],
   "source": [
    "print(df_rbl.Date.max())\n",
    "print(df_rbl.Date.min())"
   ]
  },
  {
   "cell_type": "markdown",
   "metadata": {},
   "source": [
    "Historical data for all the banks under Bank Nifty (NSEBANK)"
   ]
  },
  {
   "cell_type": "code",
   "execution_count": null,
   "metadata": {
    "execution": {
     "iopub.execute_input": "2021-09-02T01:38:01.879990Z",
     "iopub.status.busy": "2021-09-02T01:38:01.879461Z",
     "iopub.status.idle": "2021-09-02T01:38:05.938889Z",
     "shell.execute_reply": "2021-09-02T01:38:05.937574Z",
     "shell.execute_reply.started": "2021-09-02T01:38:01.879952Z"
    }
   },
   "outputs": [],
   "source": [
    "fig, axes = plt.subplots(6, 2, sharex=True, figsize=(20,32))\n",
    "plt.grid(True)\n",
    "sns.lineplot(ax=axes[0, 0], data=df_axis, x='Date', y='Open')\n",
    "axes[0,0].set_title('axis')\n",
    "sns.lineplot(ax=axes[0, 1], data=df_sbi, x='Date', y='Open')\n",
    "axes[0,1].set_title('sbi')\n",
    "sns.lineplot(ax=axes[1, 0], data=df_rbl, x='Date', y='Open')\n",
    "axes[1,0].set_title('rbl')\n",
    "sns.lineplot(ax=axes[1, 1], data=df_pnb, x='Date', y='Open')\n",
    "axes[1,1].set_title('pnb')\n",
    "sns.lineplot(ax=axes[2, 0], data=df_kot, x='Date', y='Open')\n",
    "axes[2,0].set_title('kot')\n",
    "sns.lineplot(ax=axes[2, 1], data=df_ind, x='Date', y='Open')\n",
    "axes[2,1].set_title('ind')\n",
    "sns.lineplot(ax=axes[3, 0], data=df_idfc, x='Date', y='Open')\n",
    "axes[3,0].set_title('idfc')\n",
    "sns.lineplot(ax=axes[3, 1], data=df_icic, x='Date', y='Open')\n",
    "axes[3,1].set_title('icic')\n",
    "sns.lineplot(ax=axes[4, 0], data=df_band, x='Date', y='Open')\n",
    "axes[4,0].set_title('band')\n",
    "sns.lineplot(ax=axes[4, 1], data=df_hdfc, x='Date', y='Open')\n",
    "axes[4,1].set_title('hdfc')\n",
    "sns.lineplot(ax=axes[5, 0], data=df_fed, x='Date', y='Open')\n",
    "axes[5,0].set_title('fed')\n",
    "sns.lineplot(ax=axes[5,1], data=df_au, x='Date', y='Open')\n",
    "axes[5,1].set_title('au')"
   ]
  },
  {
   "cell_type": "markdown",
   "metadata": {
    "execution": {
     "iopub.execute_input": "2021-08-04T04:57:52.960296Z",
     "iopub.status.busy": "2021-08-04T04:57:52.959821Z",
     "iopub.status.idle": "2021-08-04T04:57:52.966379Z",
     "shell.execute_reply": "2021-08-04T04:57:52.9651Z",
     "shell.execute_reply.started": "2021-08-04T04:57:52.960198Z"
    }
   },
   "source": [
    "# Data Preprocessing"
   ]
  },
  {
   "cell_type": "code",
   "execution_count": null,
   "metadata": {
    "execution": {
     "iopub.execute_input": "2021-09-02T01:38:22.447443Z",
     "iopub.status.busy": "2021-09-02T01:38:22.447091Z",
     "iopub.status.idle": "2021-09-02T01:38:22.460015Z",
     "shell.execute_reply": "2021-09-02T01:38:22.458653Z",
     "shell.execute_reply.started": "2021-09-02T01:38:22.447414Z"
    }
   },
   "outputs": [],
   "source": [
    "print(df.shape)\n",
    "date_train=pd.to_datetime(df['Date'])\n",
    "date_train"
   ]
  },
  {
   "cell_type": "code",
   "execution_count": null,
   "metadata": {
    "execution": {
     "iopub.execute_input": "2021-09-02T01:38:56.621724Z",
     "iopub.status.busy": "2021-09-02T01:38:56.621301Z",
     "iopub.status.idle": "2021-09-02T01:38:56.643080Z",
     "shell.execute_reply": "2021-09-02T01:38:56.641977Z",
     "shell.execute_reply.started": "2021-09-02T01:38:56.621688Z"
    }
   },
   "outputs": [],
   "source": [
    "Scale=StandardScaler()\n",
    "def data_prep(df, lookback, future, Scale):\n",
    "    date_train=pd.to_datetime(df['Date'])\n",
    "    df_train=df[['Open','High','Low','Close','Volume','Dividends','Stock Splits']]\n",
    "    df_train=df_train.astype(float)\n",
    "    \n",
    "    df_train_scaled=Scale.fit_transform(df_train)\n",
    "\n",
    "    X, y =[],[]\n",
    "    for i in range(lookback, len(df_train_scaled)-future+1):\n",
    "        X.append(df_train_scaled[i-lookback:i, 0:df_train.shape[1]])\n",
    "        y.append(df_train_scaled[i+future-1:i+future, 0])\n",
    "        \n",
    "    return np.array(X), np.array(y), df_train, date_train\n",
    "\n",
    "Lstm_x, Lstm_y, df_train, date_train = data_prep(df, 30, 1, Scale)"
   ]
  },
  {
   "cell_type": "markdown",
   "metadata": {},
   "source": [
    "# LSTM"
   ]
  },
  {
   "cell_type": "code",
   "execution_count": null,
   "metadata": {
    "execution": {
     "iopub.execute_input": "2021-09-02T03:04:45.210848Z",
     "iopub.status.busy": "2021-09-02T03:04:45.210290Z",
     "iopub.status.idle": "2021-09-02T03:04:45.220478Z",
     "shell.execute_reply": "2021-09-02T03:04:45.219356Z",
     "shell.execute_reply.started": "2021-09-02T03:04:45.210811Z"
    }
   },
   "outputs": [],
   "source": [
    "def Lstm_fallback(X,y):\n",
    "    model = Sequential()\n",
    "    \n",
    "    model.add(LSTM(64, activation='relu',input_shape=(X.shape[1], X.shape[2]),  return_sequences=True))\n",
    "    model.add(Dropout(0.2))\n",
    "    model.add(BatchNormalization())\n",
    "    model.add(LSTM(32, activation='relu', return_sequences=False))\n",
    "    model.add(Dropout(0.2))\n",
    "    model.add(BatchNormalization())\n",
    "    model.add(Dense(32, activation='relu'))\n",
    "    model.add(Dense(y.shape[1], activation='relu'))\n",
    "\n",
    "    opt = tf.keras.optimizers.Adam(lr=0.001, decay=1e-6)  \n",
    "    model.compile(\n",
    "            loss='mse',\n",
    "            optimizer=opt,\n",
    "        )\n",
    "    \n",
    "    es = tf.keras.callbacks.EarlyStopping(monitor='loss', patience=15, restore_best_weights=True)\n",
    "    model.fit(X, y, epochs=100, verbose=1, callbacks=[es], validation_split=0.1, batch_size=16)\n",
    "    return model\n",
    "\n"
   ]
  },
  {
   "cell_type": "code",
   "execution_count": null,
   "metadata": {
    "execution": {
     "iopub.execute_input": "2021-09-02T03:04:45.687852Z",
     "iopub.status.busy": "2021-09-02T03:04:45.687478Z",
     "iopub.status.idle": "2021-09-02T03:04:45.696881Z",
     "shell.execute_reply": "2021-09-02T03:04:45.695827Z",
     "shell.execute_reply.started": "2021-09-02T03:04:45.687821Z"
    }
   },
   "outputs": [],
   "source": [
    "def Lstm_model1(X, y):\n",
    "    regressor = Sequential()\n",
    "\n",
    "    regressor.add(LSTM(units = 50, return_sequences = True, input_shape = (X.shape[1], X.shape[2])))\n",
    "    regressor.add(Dropout(0.2))\n",
    "    regressor.add(LSTM(units = 50, return_sequences = True))\n",
    "    regressor.add(Dropout(0.2))\n",
    "    regressor.add(LSTM(units = 50, return_sequences = True))\n",
    "    regressor.add(Dropout(0.2))\n",
    "    regressor.add(LSTM(units = 50))\n",
    "    regressor.add(Dropout(0.2))\n",
    "    regressor.add(Dense(units = 1))\n",
    "\n",
    "    regressor.compile(optimizer = 'adam', loss = 'mean_squared_error')\n",
    "    \n",
    "    es = tf.keras.callbacks.EarlyStopping(monitor='loss', patience=15, restore_best_weights=True)\n",
    "    regressor.fit(X, y, epochs = 100, validation_split=0.1, batch_size = 64, verbose=1, callbacks=[es])\n",
    "    return regressor"
   ]
  },
  {
   "cell_type": "code",
   "execution_count": null,
   "metadata": {
    "execution": {
     "iopub.execute_input": "2021-09-02T03:04:46.245964Z",
     "iopub.status.busy": "2021-09-02T03:04:46.245399Z",
     "iopub.status.idle": "2021-09-02T03:04:46.254053Z",
     "shell.execute_reply": "2021-09-02T03:04:46.253211Z",
     "shell.execute_reply.started": "2021-09-02T03:04:46.245914Z"
    }
   },
   "outputs": [],
   "source": [
    "def Lstm_model2(X,y):\n",
    "    model=Sequential()\n",
    "    \n",
    "    model.add(LSTM(20,return_sequences=True,input_shape=(X.shape[1], X.shape[2])))\n",
    "    model.add(Dropout(0.2))\n",
    "    model.add(BatchNormalization())\n",
    "    #model.add(LSTM(15,return_sequences=True))\n",
    "    #model.add(Dropout(0.2))\n",
    "    #model.add(BatchNormalization())\n",
    "    model.add(LSTM(15))\n",
    "    model.add(Dropout(0.2))\n",
    "    model.add(BatchNormalization())\n",
    "    model.add(Dense(16, activation='relu'))\n",
    "    model.add(Dense(1))\n",
    "    \n",
    "    adam = optimizers.Adam(0.001)\n",
    "    model.compile(loss='mean_squared_error',optimizer=adam)\n",
    "    \n",
    "    es = tf.keras.callbacks.EarlyStopping(monitor='loss', patience=15, restore_best_weights=True)\n",
    "    model.fit(X, y,validation_split=0.2,epochs=100,batch_size=64,verbose=1, callbacks=[es])\n",
    "    return model"
   ]
  },
  {
   "cell_type": "markdown",
   "metadata": {},
   "source": [
    "# Prediction"
   ]
  },
  {
   "cell_type": "code",
   "execution_count": null,
   "metadata": {
    "execution": {
     "iopub.execute_input": "2021-09-02T02:55:51.484066Z",
     "iopub.status.busy": "2021-09-02T02:55:51.483707Z",
     "iopub.status.idle": "2021-09-02T02:55:51.491231Z",
     "shell.execute_reply": "2021-09-02T02:55:51.490033Z",
     "shell.execute_reply.started": "2021-09-02T02:55:51.484038Z"
    }
   },
   "outputs": [],
   "source": [
    "def predict_open(model,date_train,Lstm_x,df_train, future, Scale):\n",
    "    forecasting_dates=pd.date_range(list(date_train)[-1], periods=future, freq='1d').tolist()\n",
    "    predicted=model.predict(Lstm_x[-future:])\n",
    "    predicted1=np.repeat(predicted, df_train.shape[1], axis=-1)\n",
    "    predicted_descaled=Scale.inverse_transform(predicted1)[:,0]\n",
    "    return predicted_descaled,forecasting_dates\n",
    "\n",
    "def output_prep(forecasting_dates,predicted_descaled):\n",
    "    dates=[]\n",
    "    for i in forecasting_dates:\n",
    "        dates.append(i.date())\n",
    "    df_final=pd.DataFrame(columns=['Date','Open'])\n",
    "    df_final['Date']=pd.to_datetime(dates)\n",
    "    df_final['Open']=predicted_descaled\n",
    "    return df_final"
   ]
  },
  {
   "cell_type": "code",
   "execution_count": null,
   "metadata": {
    "execution": {
     "iopub.execute_input": "2021-09-02T03:04:32.556286Z",
     "iopub.status.busy": "2021-09-02T03:04:32.555821Z",
     "iopub.status.idle": "2021-09-02T03:04:32.565241Z",
     "shell.execute_reply": "2021-09-02T03:04:32.564056Z",
     "shell.execute_reply.started": "2021-09-02T03:04:32.556253Z"
    }
   },
   "outputs": [],
   "source": [
    "def results(df, lookback, future, Scale, x):\n",
    "    Lstm_x, Lstm_y, df_train, date_train = data_prep(df, lookback, future, Scale)\n",
    "    model=Lstm_model1(Lstm_x,Lstm_y)\n",
    "    loss=pd.DataFrame(model.history.history)\n",
    "    loss.plot()\n",
    "    future=30\n",
    "    predicted_descaled,forecasting_dates=predict_open(model,date_train,Lstm_x,df_train,future, Scale)\n",
    "    results=output_prep(forecasting_dates,predicted_descaled)   \n",
    "    print(results.head())\n",
    "    plt.show()\n",
    "    fig = px.area(results, x=\"Date\", y=\"Open\", title=x)\n",
    "    fig.update_yaxes(range=[results.Open.min()-10, results.Open.max()+10])\n",
    "    fig.show()"
   ]
  },
  {
   "cell_type": "code",
   "execution_count": null,
   "metadata": {
    "execution": {
     "iopub.execute_input": "2021-09-02T03:04:34.715056Z",
     "iopub.status.busy": "2021-09-02T03:04:34.714642Z",
     "iopub.status.idle": "2021-09-02T03:04:34.723670Z",
     "shell.execute_reply": "2021-09-02T03:04:34.722297Z",
     "shell.execute_reply.started": "2021-09-02T03:04:34.715028Z"
    }
   },
   "outputs": [],
   "source": [
    "def results1(df, lookback, future, Scale, x):\n",
    "    Lstm_x, Lstm_y, df_train, date_train = data_prep(df, lookback, future, Scale)\n",
    "    model=Lstm_model2(Lstm_x,Lstm_y)\n",
    "    loss=pd.DataFrame(model.history.history)\n",
    "    loss.plot()\n",
    "    future=30\n",
    "    predicted_descaled,forecasting_dates=predict_open(model,date_train,Lstm_x,df_train,future, Scale)\n",
    "    results=output_prep(forecasting_dates,predicted_descaled)   \n",
    "    print(results.head())\n",
    "    plt.show()\n",
    "    fig = px.area(results, x=\"Date\", y=\"Open\", title=x)\n",
    "    fig.update_yaxes(range=[results.Open.min()-10, results.Open.max()+10])\n",
    "    fig.show()\n"
   ]
  },
  {
   "cell_type": "markdown",
   "metadata": {},
   "source": [
    "# Result Visualization"
   ]
  },
  {
   "cell_type": "code",
   "execution_count": null,
   "metadata": {
    "execution": {
     "iopub.execute_input": "2021-09-02T02:57:53.097249Z",
     "iopub.status.busy": "2021-09-02T02:57:53.096473Z",
     "iopub.status.idle": "2021-09-02T02:59:50.726687Z",
     "shell.execute_reply": "2021-09-02T02:59:50.725961Z",
     "shell.execute_reply.started": "2021-09-02T02:57:53.097198Z"
    }
   },
   "outputs": [],
   "source": [
    "results(df, 30, 1, Scale, 'NSEBANK')"
   ]
  },
  {
   "cell_type": "code",
   "execution_count": null,
   "metadata": {
    "execution": {
     "iopub.execute_input": "2021-09-02T01:52:07.565950Z",
     "iopub.status.busy": "2021-09-02T01:52:07.565575Z",
     "iopub.status.idle": "2021-09-02T01:53:28.735512Z",
     "shell.execute_reply": "2021-09-02T01:53:28.734379Z",
     "shell.execute_reply.started": "2021-09-02T01:52:07.565916Z"
    }
   },
   "outputs": [],
   "source": [
    "results1(df, 30, 1, Scale, 'NSEBANK')"
   ]
  },
  {
   "cell_type": "code",
   "execution_count": null,
   "metadata": {
    "execution": {
     "iopub.execute_input": "2021-09-02T01:59:15.841606Z",
     "iopub.status.busy": "2021-09-02T01:59:15.841181Z",
     "iopub.status.idle": "2021-09-02T02:13:02.710814Z",
     "shell.execute_reply": "2021-09-02T02:13:02.709667Z",
     "shell.execute_reply.started": "2021-09-02T01:59:15.841573Z"
    }
   },
   "outputs": [],
   "source": [
    "d={'AXIS':df_axis, 'SBI':df_sbi, 'RBL': df_rbl ,'PNB': df_pnb ,'KOTAK': df_kot, \n",
    "   'INDUSIND':df_ind, 'IDFC': df_idfc, 'ICIC': df_icic , 'BANDHAN': df_band, 'HDFC': df_hdfc, 'FEDERAL': df_fed,\n",
    "   'AU FIN':df_au}\n",
    "\n",
    "for x in d.keys():\n",
    "    results1(d[x], 30, 1, Scale, x)\n",
    "    "
   ]
  },
  {
   "cell_type": "code",
   "execution_count": null,
   "metadata": {},
   "outputs": [],
   "source": []
  }
 ],
 "metadata": {
  "kernelspec": {
   "display_name": "Python 3 (ipykernel)",
   "language": "python",
   "name": "python3"
  },
  "language_info": {
   "codemirror_mode": {
    "name": "ipython",
    "version": 3
   },
   "file_extension": ".py",
   "mimetype": "text/x-python",
   "name": "python",
   "nbconvert_exporter": "python",
   "pygments_lexer": "ipython3",
   "version": "3.11.3"
  }
 },
 "nbformat": 4,
 "nbformat_minor": 4
}
